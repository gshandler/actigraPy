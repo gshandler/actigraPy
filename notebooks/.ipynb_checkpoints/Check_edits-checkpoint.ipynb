{
 "cells": [
  {
   "cell_type": "markdown",
   "metadata": {},
   "source": [
    "### Load edited file"
   ]
  },
  {
   "cell_type": "markdown",
   "metadata": {},
   "source": [
    "import modules etc."
   ]
  },
  {
   "cell_type": "code",
   "execution_count": null,
   "metadata": {},
   "outputs": [],
   "source": [
    "import os,sys,inspect\n",
    "current_dir = os.path.dirname(os.path.abspath(inspect.getfile(inspect.currentframe())))\n",
    "parent_dir = os.path.dirname(current_dir)\n",
    "sys.path.insert(0, parent_dir) \n",
    "\n",
    "import actigraPy.actigraPy as act\n",
    "import importlib"
   ]
  },
  {
   "cell_type": "markdown",
   "metadata": {},
   "source": [
    "### Edit this part"
   ]
  },
  {
   "cell_type": "code",
   "execution_count": null,
   "metadata": {},
   "outputs": [],
   "source": [
    "# filenames etc\n",
    "sub = 'FLVA'\n",
    "marker_fn = 'FLVA_clipped_Mtimes.csv' \n",
    "dat_fn_pref = 'FLVA_clipped'\n",
    "dat_out_pref = sub + '_'\n",
    "\n",
    "# data directory\n",
    "dat_dir = '/Users/evansjw/ETPB/sleep/actiwatch/data/output'\n",
    "\n",
    "# output directory\n",
    "out_dir = '/Users/evansjw/ETPB/sleep/actiwatch/data/output'\n",
    "\n",
    "marker_fn = os.path.join(dat_dir,marker_fn)\n",
    "dat_fn_pref = os.path.join(dat_dir,dat_fn_pref)\n",
    "dat_out_pref = os.path.join(out_dir,dat_out_pref)"
   ]
  },
  {
   "cell_type": "code",
   "execution_count": null,
   "metadata": {},
   "outputs": [],
   "source": [
    "importlib.reload(act)\n",
    "dat,marker_idx = act.read_dat(dat_fn_pref)\n",
    "Mtimes,new_mk_idx = act.read_marker(marker_fn,dat)"
   ]
  },
  {
   "cell_type": "markdown",
   "metadata": {},
   "source": [
    "### Plot the new markers"
   ]
  },
  {
   "cell_type": "code",
   "execution_count": null,
   "metadata": {},
   "outputs": [],
   "source": [
    "importlib.reload(act)\n",
    "act.plot_awd(dat,new_mk_idx,show=False,fn_pref=sub+'_Medited')"
   ]
  },
  {
   "cell_type": "markdown",
   "metadata": {},
   "source": [
    "### Write out new file"
   ]
  },
  {
   "cell_type": "code",
   "execution_count": null,
   "metadata": {},
   "outputs": [],
   "source": [
    "importlib.reload(act)\n",
    "act.write_dat(dat,new_mk_idx,dat_out_pref,fn_suff='edited')"
   ]
  }
 ],
 "metadata": {
  "kernelspec": {
   "display_name": "Python 3",
   "language": "python",
   "name": "python3"
  },
  "language_info": {
   "codemirror_mode": {
    "name": "ipython",
    "version": 3
   },
   "file_extension": ".py",
   "mimetype": "text/x-python",
   "name": "python",
   "nbconvert_exporter": "python",
   "pygments_lexer": "ipython3",
   "version": "3.6.7"
  }
 },
 "nbformat": 4,
 "nbformat_minor": 2
}
