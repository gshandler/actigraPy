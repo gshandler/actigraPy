{
 "cells": [
  {
   "cell_type": "markdown",
   "metadata": {},
   "source": [
    "## Load, plot, edit Actiwatch AWD file\n",
    "\n",
    "JWE 10Mar19\n",
    "\n",
    "This python notebook is designed to help edit the 'on' and 'off' wrist segment markers in an actigraphy AWD file.  It is meant to be run cell by cell... You can try running all of them at once, nothing bad will happen, but maybe nothing good either.\n",
    "\n",
    "The AWD file format is assumed to be a space separated text file and have a header with 7 rows. The two columns of data are assumed to be activity and marker (which is an M).\n",
    "\n",
    "Any markers in the AWD file are matched up with transition points (TP) between segments of higher and lower activiy (counts over or below 40 over a weighted 5 minute window centered on the time point, respectively).  If a sleep log file (csv) exists then the markers are matched up with data in this file.  The sleep log file markers are assumed to be pairs and take timing precedence over the TPs.\n",
    "\n",
    "If there are no markers in the file, never fear, low activity segments are used to establish guessed markers (z).  Do note that this tends to detect sleep period (not fully contiguously) or naps in addition to off watch periods.\n",
    "\n",
    "The markers found in the AWD file, log file and guessed markers are output to an Mtimes csv file which is a listing of dates and times along with the marker code.  M for marker, z for guessed marker.  This Mtimes file can be edited at will and read back in.  Note that the programs assume a smart user who will list a pair of time points per segment i.e. an 'on' time and and 'off' time.\n",
    "\n",
    "In order to help with segment identification there is also a rudimentary plotting program that will plot activity data along with marked segments or comments from a sleep log file if it exists.  Any number of marked segments can be displayed as long as they are identified with a different letter.  Activity data can be plotted as single or double day.  Plotting takes a long time (on the order of minutes).\n",
    "\n",
    "Finally (or maybe this should have been mentioned first), data can be clipped to a subset of the recorded data before the markers are generated.  Note that currently it is assumed the log data are within the clipped limits.\n",
    "\n",
    "In this notebook, the data is read and marker file and data file (with time stamps) are written out  Two plots are then made: te first plot is of the detected markers and log file data (if any), the second is the detected and guessed markers.  There is also a cell to read the marker file is also (assumed to be edited) and a new plot is made of the markers found in the file.\n",
    "\n",
    "Disclaimer:  The marker identification function does a pretty good job but isn't perfect; especially given the fact that there's no way of telling whether low activity periods are off watch segments from the data itself. The marker file does let the user switch any guessed markers to actual markers, adjust the timing of the markers, or remove errant marked segments.  No complaints about marker detection will be entertained!  There may also be oddities with display, most of these are just display issues rather than marker issues at this point.\n",
    "\n",
    "Lastly, it is possible to restrict the markers that are written out to the final data or marker file to a single type.\n"
   ]
  },
  {
   "cell_type": "markdown",
   "metadata": {},
   "source": [
    "Import required libraries"
   ]
  },
  {
   "cell_type": "code",
   "execution_count": null,
   "metadata": {},
   "outputs": [],
   "source": [
    "import os,sys,inspect\n",
    "current_dir = os.path.dirname(os.path.abspath(inspect.getfile(inspect.currentframe())))\n",
    "parent_dir = os.path.dirname(current_dir)\n",
    "sys.path.insert(0, parent_dir) \n",
    "\n",
    "import actigraPy.actigraPy as act\n",
    "import importlib"
   ]
  },
  {
   "cell_type": "markdown",
   "metadata": {},
   "source": [
    "Set up participant and file information.\n",
    "\n",
    "### Edit this part"
   ]
  },
  {
   "cell_type": "code",
   "execution_count": null,
   "metadata": {},
   "outputs": [],
   "source": [
    "# filname prefix (usally the subject inits)\n",
    "sub = 'TEST' \n",
    "# data directory\n",
    "dat_dir = '/Users/evansjw/ETPB/sleep/actiwatch/actigraPy/data/'\n",
    "out_dir = '/Users/evansjw/ETPB/sleep/actiwatch/data/output'\n",
    "\n",
    "fn = os.path.join(dat_dir, sub +'.AWD')\n",
    "log_fn = os.path.join(dat_dir, sub + '_sleeplog.csv')\n",
    "#lim = ['22-Feb-16 12:00 AM','12-Mar-16 11:59 PM']\n",
    "lim=[]"
   ]
  },
  {
   "cell_type": "markdown",
   "metadata": {},
   "source": [
    "### Just run the rest of the cells... \n",
    "The cell defaults can be tweaked but should run as is...\n",
    "\n",
    "Read in the data, clip to dates if required, get markers and write markers out to file."
   ]
  },
  {
   "cell_type": "code",
   "execution_count": null,
   "metadata": {},
   "outputs": [],
   "source": [
    "importlib.reload(act)\n",
    "# read the data\n",
    "awd_dat = act.read_AWD(fn)\n",
    "\n",
    "print('start: ',awd_dat['DateTime'][0])\n",
    "print('stop: ',awd_dat['DateTime'][-1])\n",
    "\n",
    "#clip_data\n",
    "if lim:\n",
    "    clip_dat = act.clip_dat(lim,awd_dat)\n",
    "    fn_pref = os.path.join(out_dir, sub + '_clipped')\n",
    "else:\n",
    "    clip_dat = awd_dat\n",
    "    fn_pref = os.path.join(out_dir,sub)\n",
    "\n",
    "# despike\n",
    "dat = act.despike(clip_dat['activity'],4,10)\n",
    "clip_dat['dat'] = dat\n",
    "\n",
    "# get markers\n",
    "mk_idx,comments = act.get_markers(clip_dat,log_fn)\n",
    "\n",
    "# write markers\n",
    "if comments:\n",
    "    act.write_Mtimes(clip_dat,mk_idx,fn_pref,comments)\n",
    "else:\n",
    "    act.write_Mtimes(clip_dat,mk_idx,fn_pref)\n",
    "    \n",
    "# write data\n",
    "act.write_dat(clip_dat,mk_idx,fn_pref)"
   ]
  },
  {
   "cell_type": "markdown",
   "metadata": {},
   "source": [
    "### Plotting\n",
    "\n",
    "\n",
    "Plot the markers and log data (if there is any - need to add check) and saves to png."
   ]
  },
  {
   "cell_type": "code",
   "execution_count": null,
   "metadata": {},
   "outputs": [],
   "source": [
    "importlib.reload(act)\n",
    "if comments:\n",
    "    act.plot_awd(clip_dat,{'':[],'m':mk_idx['m'],'l':mk_idx['l']},show=False,fn_pref=os.path.join(out_dir,sub+'_M+log'),comments=comments,max_act=500)\n",
    "else:\n",
    "    print('no log data')"
   ]
  },
  {
   "cell_type": "markdown",
   "metadata": {},
   "source": [
    "### Plot the guessed markers too"
   ]
  },
  {
   "cell_type": "code",
   "execution_count": null,
   "metadata": {},
   "outputs": [
    {
     "name": "stdout",
     "output_type": "stream",
     "text": [
      "20-Feb-16\n",
      "21-Feb-16\n",
      "22-Feb-16\n"
     ]
    }
   ],
   "source": [
    "importlib.reload(act)\n",
    "try:\n",
    "    act.plot_awd(clip_dat,{'m':mk_idx['m'],'l':mk_idx['l'],'z':mk_idx['z']},show=False,fn_pref=os.path.join(out_dir,sub+'_M+guess'),plot_type='single',debug=True)\n",
    "except:\n",
    "    act.plot_awd(clip_dat,{'m':mk_idx['m'],'':[],'z':mk_idx['z']},show=False,plot_type='single',fn_pref=os.path.join(out_dir,sub+'_M+guess'))\n",
    "    \n",
    "    "
   ]
  }
 ],
 "metadata": {
  "kernelspec": {
   "display_name": "Python 3",
   "language": "python",
   "name": "python3"
  },
  "language_info": {
   "codemirror_mode": {
    "name": "ipython",
    "version": 3
   },
   "file_extension": ".py",
   "mimetype": "text/x-python",
   "name": "python",
   "nbconvert_exporter": "python",
   "pygments_lexer": "ipython3",
   "version": "3.7.1"
  }
 },
 "nbformat": 4,
 "nbformat_minor": 2
}
